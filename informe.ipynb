{
 "cells": [
  {
   "cell_type": "markdown",
   "metadata": {},
   "source": [
    "# Importando Bibliotecas Necesarias"
   ]
  },
  {
   "cell_type": "code",
   "execution_count": null,
   "metadata": {},
   "outputs": [],
   "source": [
    "import csv\n",
    "from pathlib import Path"
   ]
  },
  {
   "cell_type": "markdown",
   "metadata": {},
   "source": [
    "### Consulta de Aereopuertos"
   ]
  },
  {
   "cell_type": "code",
   "execution_count": null,
   "metadata": {},
   "outputs": [],
   "source": [
    "Especificacion = input('Ingrese una especificacion de busqueda:')   # Especifica al proceso que Aereopuerto desea informar, los valores posibles son bajo, medio y alto\n",
    "rutaAerea = Path('datasets')/'datasetsModificados'/'ar-airports.csv'   # Guardo la ruta hacia el dataset\n",
    "\n",
    "with open(rutaAerea,'r',encoding='utf8') as archivo_lectura:   # Estructura informando segun la Especificacion\n",
    "    lector = csv.reader(archivo_lectura)\n",
    "    for line in lector:\n",
    "        if(line[23] == Especificacion):\n",
    "            print(line)"
   ]
  },
  {
   "cell_type": "markdown",
   "metadata": {},
   "source": [
    "### Consulta de Lagos"
   ]
  },
  {
   "cell_type": "code",
   "execution_count": null,
   "metadata": {},
   "outputs": [],
   "source": [
    "Criterio = input('Ingrese un criterio de busqueda:')   # Especifica al proceso que Lago desea informar, los valores posibles son chico, medio y grande\n",
    "rutaLago = Path('datasets')/'datasetsModificados'/'lagos_arg.csv'   # Guardo la ruta hacia el dataset\n",
    "\n",
    "with open(rutaLago,'r',encoding='utf8') as archivo_lectura:   # Estructura informando segun el Criterio\n",
    "    lector = csv.reader(archivo_lectura)\n",
    "    for line in lector:\n",
    "        if(line[6] == Criterio):\n",
    "            print(line)"
   ]
  },
  {
   "cell_type": "markdown",
   "metadata": {},
   "source": [
    "### Consulta de Conexiones"
   ]
  },
  {
   "cell_type": "code",
   "execution_count": null,
   "metadata": {},
   "outputs": [],
   "source": [
    "rutaConexion = Path('datasets')/'datasetsModificados'/'Conectividad_Internet.csv'  # Guardo la tura hacia el dataset\n",
    "\n",
    "with open(rutaConexion,'r',encoding='utf8') as archivo_lectura:  # Creo una tupla dentro de la estructura para informarla\n",
    "    lector = csv.reader(archivo_lectura)\n",
    "    vCant = (['ADLS',0],['CABLEMODEM',0],['DIALUP',0],['FIBRAOPTICA',0],['SATELITAL',0],['WIRELESS',0],['TELEFONIAFIJA',0],['3g',0],['4g',0])\n",
    "    for line in lector:\n",
    "        for i in range(4,13):\n",
    "            if(line[i] == 'SI'):\n",
    "                vCant[i-4][1] += 1\n",
    "    print (vCant)"
   ]
  }
 ],
 "metadata": {
  "kernelspec": {
   "display_name": "Python 3",
   "language": "python",
   "name": "python3"
  },
  "language_info": {
   "codemirror_mode": {
    "name": "ipython",
    "version": 3
   },
   "file_extension": ".py",
   "mimetype": "text/x-python",
   "name": "python",
   "nbconvert_exporter": "python",
   "pygments_lexer": "ipython3",
   "version": "3.11.9"
  }
 },
 "nbformat": 4,
 "nbformat_minor": 2
}
